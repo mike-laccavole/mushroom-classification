{
 "cells": [
  {
   "cell_type": "markdown",
   "metadata": {},
   "source": [
    "# Shrooms: Edible or Poisonous?"
   ]
  },
  {
   "cell_type": "markdown",
   "metadata": {},
   "source": [
    "'Shrooming' -- the act of foraging for edible mushrooms in the forest -- is growing in popularity. However, this novel hobby presents new dangers: there are countless types of unique mushrooms, many of which can easily be misclassified. One small mistake in mushroom indentification can have enormous consequences. Accidentally ingesting a poisonous mushroom can lead to serious medical complications, and perhaps even death. In this notebook, I'll attempt to use data science methodologies to correctly identify a mushroom as either edible or poisonous."
   ]
  },
  {
   "cell_type": "code",
   "execution_count": 1,
   "metadata": {},
   "outputs": [],
   "source": [
    "# Start by making key imports: NumPy and Pandas\n",
    "import numpy as np\n",
    "import pandas as pd"
   ]
  },
  {
   "cell_type": "code",
   "execution_count": 2,
   "metadata": {},
   "outputs": [],
   "source": [
    "# Read in CSV file of our data\n",
    "shrooms = pd.read_csv('../datasets/mushrooms.csv')"
   ]
  },
  {
   "cell_type": "code",
   "execution_count": 3,
   "metadata": {},
   "outputs": [
    {
     "data": {
      "text/html": [
       "<div>\n",
       "<style scoped>\n",
       "    .dataframe tbody tr th:only-of-type {\n",
       "        vertical-align: middle;\n",
       "    }\n",
       "\n",
       "    .dataframe tbody tr th {\n",
       "        vertical-align: top;\n",
       "    }\n",
       "\n",
       "    .dataframe thead th {\n",
       "        text-align: right;\n",
       "    }\n",
       "</style>\n",
       "<table border=\"1\" class=\"dataframe\">\n",
       "  <thead>\n",
       "    <tr style=\"text-align: right;\">\n",
       "      <th></th>\n",
       "      <th>class</th>\n",
       "      <th>cap-shape</th>\n",
       "      <th>cap-surface</th>\n",
       "      <th>cap-color</th>\n",
       "      <th>bruises</th>\n",
       "      <th>odor</th>\n",
       "      <th>gill-attachment</th>\n",
       "      <th>gill-spacing</th>\n",
       "      <th>gill-size</th>\n",
       "      <th>gill-color</th>\n",
       "      <th>...</th>\n",
       "      <th>stalk-surface-below-ring</th>\n",
       "      <th>stalk-color-above-ring</th>\n",
       "      <th>stalk-color-below-ring</th>\n",
       "      <th>veil-type</th>\n",
       "      <th>veil-color</th>\n",
       "      <th>ring-number</th>\n",
       "      <th>ring-type</th>\n",
       "      <th>spore-print-color</th>\n",
       "      <th>population</th>\n",
       "      <th>habitat</th>\n",
       "    </tr>\n",
       "  </thead>\n",
       "  <tbody>\n",
       "    <tr>\n",
       "      <th>count</th>\n",
       "      <td>8124</td>\n",
       "      <td>8124</td>\n",
       "      <td>8124</td>\n",
       "      <td>8124</td>\n",
       "      <td>8124</td>\n",
       "      <td>8124</td>\n",
       "      <td>8124</td>\n",
       "      <td>8124</td>\n",
       "      <td>8124</td>\n",
       "      <td>8124</td>\n",
       "      <td>...</td>\n",
       "      <td>8124</td>\n",
       "      <td>8124</td>\n",
       "      <td>8124</td>\n",
       "      <td>8124</td>\n",
       "      <td>8124</td>\n",
       "      <td>8124</td>\n",
       "      <td>8124</td>\n",
       "      <td>8124</td>\n",
       "      <td>8124</td>\n",
       "      <td>8124</td>\n",
       "    </tr>\n",
       "    <tr>\n",
       "      <th>unique</th>\n",
       "      <td>2</td>\n",
       "      <td>6</td>\n",
       "      <td>4</td>\n",
       "      <td>10</td>\n",
       "      <td>2</td>\n",
       "      <td>9</td>\n",
       "      <td>2</td>\n",
       "      <td>2</td>\n",
       "      <td>2</td>\n",
       "      <td>12</td>\n",
       "      <td>...</td>\n",
       "      <td>4</td>\n",
       "      <td>9</td>\n",
       "      <td>9</td>\n",
       "      <td>1</td>\n",
       "      <td>4</td>\n",
       "      <td>3</td>\n",
       "      <td>5</td>\n",
       "      <td>9</td>\n",
       "      <td>6</td>\n",
       "      <td>7</td>\n",
       "    </tr>\n",
       "    <tr>\n",
       "      <th>top</th>\n",
       "      <td>e</td>\n",
       "      <td>x</td>\n",
       "      <td>y</td>\n",
       "      <td>n</td>\n",
       "      <td>f</td>\n",
       "      <td>n</td>\n",
       "      <td>f</td>\n",
       "      <td>c</td>\n",
       "      <td>b</td>\n",
       "      <td>b</td>\n",
       "      <td>...</td>\n",
       "      <td>s</td>\n",
       "      <td>w</td>\n",
       "      <td>w</td>\n",
       "      <td>p</td>\n",
       "      <td>w</td>\n",
       "      <td>o</td>\n",
       "      <td>p</td>\n",
       "      <td>w</td>\n",
       "      <td>v</td>\n",
       "      <td>d</td>\n",
       "    </tr>\n",
       "    <tr>\n",
       "      <th>freq</th>\n",
       "      <td>4208</td>\n",
       "      <td>3656</td>\n",
       "      <td>3244</td>\n",
       "      <td>2284</td>\n",
       "      <td>4748</td>\n",
       "      <td>3528</td>\n",
       "      <td>7914</td>\n",
       "      <td>6812</td>\n",
       "      <td>5612</td>\n",
       "      <td>1728</td>\n",
       "      <td>...</td>\n",
       "      <td>4936</td>\n",
       "      <td>4464</td>\n",
       "      <td>4384</td>\n",
       "      <td>8124</td>\n",
       "      <td>7924</td>\n",
       "      <td>7488</td>\n",
       "      <td>3968</td>\n",
       "      <td>2388</td>\n",
       "      <td>4040</td>\n",
       "      <td>3148</td>\n",
       "    </tr>\n",
       "  </tbody>\n",
       "</table>\n",
       "<p>4 rows × 23 columns</p>\n",
       "</div>"
      ],
      "text/plain": [
       "       class cap-shape cap-surface cap-color bruises  odor gill-attachment  \\\n",
       "count   8124      8124        8124      8124    8124  8124            8124   \n",
       "unique     2         6           4        10       2     9               2   \n",
       "top        e         x           y         n       f     n               f   \n",
       "freq    4208      3656        3244      2284    4748  3528            7914   \n",
       "\n",
       "       gill-spacing gill-size gill-color  ... stalk-surface-below-ring  \\\n",
       "count          8124      8124       8124  ...                     8124   \n",
       "unique            2         2         12  ...                        4   \n",
       "top               c         b          b  ...                        s   \n",
       "freq           6812      5612       1728  ...                     4936   \n",
       "\n",
       "       stalk-color-above-ring stalk-color-below-ring veil-type veil-color  \\\n",
       "count                    8124                   8124      8124       8124   \n",
       "unique                      9                      9         1          4   \n",
       "top                         w                      w         p          w   \n",
       "freq                     4464                   4384      8124       7924   \n",
       "\n",
       "       ring-number ring-type spore-print-color population habitat  \n",
       "count         8124      8124              8124       8124    8124  \n",
       "unique           3         5                 9          6       7  \n",
       "top              o         p                 w          v       d  \n",
       "freq          7488      3968              2388       4040    3148  \n",
       "\n",
       "[4 rows x 23 columns]"
      ]
     },
     "execution_count": 3,
     "metadata": {},
     "output_type": "execute_result"
    }
   ],
   "source": [
    "# Use the .describe() attribute for initial analysis\n",
    "shrooms.describe()"
   ]
  },
  {
   "cell_type": "code",
   "execution_count": 4,
   "metadata": {},
   "outputs": [
    {
     "data": {
      "text/plain": [
       "(8124, 23)"
      ]
     },
     "execution_count": 4,
     "metadata": {},
     "output_type": "execute_result"
    }
   ],
   "source": [
    "# Check the number of rows and columns in the dataset\n",
    "shrooms.shape"
   ]
  },
  {
   "cell_type": "code",
   "execution_count": 5,
   "metadata": {},
   "outputs": [
    {
     "data": {
      "text/plain": [
       "class                       0\n",
       "cap-shape                   0\n",
       "cap-surface                 0\n",
       "cap-color                   0\n",
       "bruises                     0\n",
       "odor                        0\n",
       "gill-attachment             0\n",
       "gill-spacing                0\n",
       "gill-size                   0\n",
       "gill-color                  0\n",
       "stalk-shape                 0\n",
       "stalk-root                  0\n",
       "stalk-surface-above-ring    0\n",
       "stalk-surface-below-ring    0\n",
       "stalk-color-above-ring      0\n",
       "stalk-color-below-ring      0\n",
       "veil-type                   0\n",
       "veil-color                  0\n",
       "ring-number                 0\n",
       "ring-type                   0\n",
       "spore-print-color           0\n",
       "population                  0\n",
       "habitat                     0\n",
       "dtype: int64"
      ]
     },
     "execution_count": 5,
     "metadata": {},
     "output_type": "execute_result"
    }
   ],
   "source": [
    "# Count the number of nulls in the dataset\n",
    "shrooms.isnull().sum()\n",
    "\n",
    "# No nulls!"
   ]
  },
  {
   "cell_type": "code",
   "execution_count": 6,
   "metadata": {},
   "outputs": [
    {
     "data": {
      "text/plain": [
       "class                       object\n",
       "cap-shape                   object\n",
       "cap-surface                 object\n",
       "cap-color                   object\n",
       "bruises                     object\n",
       "odor                        object\n",
       "gill-attachment             object\n",
       "gill-spacing                object\n",
       "gill-size                   object\n",
       "gill-color                  object\n",
       "stalk-shape                 object\n",
       "stalk-root                  object\n",
       "stalk-surface-above-ring    object\n",
       "stalk-surface-below-ring    object\n",
       "stalk-color-above-ring      object\n",
       "stalk-color-below-ring      object\n",
       "veil-type                   object\n",
       "veil-color                  object\n",
       "ring-number                 object\n",
       "ring-type                   object\n",
       "spore-print-color           object\n",
       "population                  object\n",
       "habitat                     object\n",
       "dtype: object"
      ]
     },
     "execution_count": 6,
     "metadata": {},
     "output_type": "execute_result"
    }
   ],
   "source": [
    "# Check the data types of the dataset. All the values in the datasets are objects\n",
    "shrooms.dtypes"
   ]
  },
  {
   "cell_type": "code",
   "execution_count": 7,
   "metadata": {},
   "outputs": [
    {
     "name": "stdout",
     "output_type": "stream",
     "text": [
      "class\n",
      "['p' 'e']\n",
      "cap-shape\n",
      "['x' 'b' 's' 'f' 'k' 'c']\n",
      "cap-surface\n",
      "['s' 'y' 'f' 'g']\n",
      "cap-color\n",
      "['n' 'y' 'w' 'g' 'e' 'p' 'b' 'u' 'c' 'r']\n",
      "bruises\n",
      "['t' 'f']\n",
      "odor\n",
      "['p' 'a' 'l' 'n' 'f' 'c' 'y' 's' 'm']\n",
      "gill-attachment\n",
      "['f' 'a']\n",
      "gill-spacing\n",
      "['c' 'w']\n",
      "gill-size\n",
      "['n' 'b']\n",
      "gill-color\n",
      "['k' 'n' 'g' 'p' 'w' 'h' 'u' 'e' 'b' 'r' 'y' 'o']\n",
      "stalk-shape\n",
      "['e' 't']\n",
      "stalk-root\n",
      "['e' 'c' 'b' 'r' '?']\n",
      "stalk-surface-above-ring\n",
      "['s' 'f' 'k' 'y']\n",
      "stalk-surface-below-ring\n",
      "['s' 'f' 'y' 'k']\n",
      "stalk-color-above-ring\n",
      "['w' 'g' 'p' 'n' 'b' 'e' 'o' 'c' 'y']\n",
      "stalk-color-below-ring\n",
      "['w' 'p' 'g' 'b' 'n' 'e' 'y' 'o' 'c']\n",
      "veil-type\n",
      "['p']\n",
      "veil-color\n",
      "['w' 'n' 'o' 'y']\n",
      "ring-number\n",
      "['o' 't' 'n']\n",
      "ring-type\n",
      "['p' 'e' 'l' 'f' 'n']\n",
      "spore-print-color\n",
      "['k' 'n' 'u' 'h' 'w' 'r' 'o' 'y' 'b']\n",
      "population\n",
      "['s' 'n' 'a' 'v' 'y' 'c']\n",
      "habitat\n",
      "['u' 'g' 'm' 'd' 'p' 'w' 'l']\n"
     ]
    }
   ],
   "source": [
    "# For each column, display the name of the column and the number of unique attributes for each column\n",
    "for column in shrooms:\n",
    "    print(column)\n",
    "    print(shrooms[column].unique())"
   ]
  },
  {
   "cell_type": "markdown",
   "metadata": {},
   "source": [
    "#### Need for dummy variables\n",
    "\n",
    "Looking at the unique values in each column of the dataset, we can see that there are a lot of unique non-numerical values in the shrooms dataset. This means we're going to have to create a new column for each unique variable for each unique column. These will be `dummy variables` that can be used for quantitative analysis.\n",
    "\n",
    "How many dummy variables, exactly? Let's take a look and see"
   ]
  },
  {
   "cell_type": "code",
   "execution_count": 8,
   "metadata": {},
   "outputs": [
    {
     "data": {
      "text/html": [
       "<div>\n",
       "<style scoped>\n",
       "    .dataframe tbody tr th:only-of-type {\n",
       "        vertical-align: middle;\n",
       "    }\n",
       "\n",
       "    .dataframe tbody tr th {\n",
       "        vertical-align: top;\n",
       "    }\n",
       "\n",
       "    .dataframe thead th {\n",
       "        text-align: right;\n",
       "    }\n",
       "</style>\n",
       "<table border=\"1\" class=\"dataframe\">\n",
       "  <thead>\n",
       "    <tr style=\"text-align: right;\">\n",
       "      <th></th>\n",
       "      <th>class</th>\n",
       "      <th>cap-shape</th>\n",
       "      <th>cap-surface</th>\n",
       "      <th>cap-color</th>\n",
       "      <th>bruises</th>\n",
       "      <th>odor</th>\n",
       "      <th>gill-attachment</th>\n",
       "      <th>gill-spacing</th>\n",
       "      <th>gill-size</th>\n",
       "      <th>gill-color</th>\n",
       "      <th>...</th>\n",
       "      <th>stalk-surface-below-ring</th>\n",
       "      <th>stalk-color-above-ring</th>\n",
       "      <th>stalk-color-below-ring</th>\n",
       "      <th>veil-type</th>\n",
       "      <th>veil-color</th>\n",
       "      <th>ring-number</th>\n",
       "      <th>ring-type</th>\n",
       "      <th>spore-print-color</th>\n",
       "      <th>population</th>\n",
       "      <th>habitat</th>\n",
       "    </tr>\n",
       "  </thead>\n",
       "  <tbody>\n",
       "    <tr>\n",
       "      <th>count</th>\n",
       "      <td>8124</td>\n",
       "      <td>8124</td>\n",
       "      <td>8124</td>\n",
       "      <td>8124</td>\n",
       "      <td>8124</td>\n",
       "      <td>8124</td>\n",
       "      <td>8124</td>\n",
       "      <td>8124</td>\n",
       "      <td>8124</td>\n",
       "      <td>8124</td>\n",
       "      <td>...</td>\n",
       "      <td>8124</td>\n",
       "      <td>8124</td>\n",
       "      <td>8124</td>\n",
       "      <td>8124</td>\n",
       "      <td>8124</td>\n",
       "      <td>8124</td>\n",
       "      <td>8124</td>\n",
       "      <td>8124</td>\n",
       "      <td>8124</td>\n",
       "      <td>8124</td>\n",
       "    </tr>\n",
       "    <tr>\n",
       "      <th>unique</th>\n",
       "      <td>2</td>\n",
       "      <td>6</td>\n",
       "      <td>4</td>\n",
       "      <td>10</td>\n",
       "      <td>2</td>\n",
       "      <td>9</td>\n",
       "      <td>2</td>\n",
       "      <td>2</td>\n",
       "      <td>2</td>\n",
       "      <td>12</td>\n",
       "      <td>...</td>\n",
       "      <td>4</td>\n",
       "      <td>9</td>\n",
       "      <td>9</td>\n",
       "      <td>1</td>\n",
       "      <td>4</td>\n",
       "      <td>3</td>\n",
       "      <td>5</td>\n",
       "      <td>9</td>\n",
       "      <td>6</td>\n",
       "      <td>7</td>\n",
       "    </tr>\n",
       "    <tr>\n",
       "      <th>top</th>\n",
       "      <td>e</td>\n",
       "      <td>x</td>\n",
       "      <td>y</td>\n",
       "      <td>n</td>\n",
       "      <td>f</td>\n",
       "      <td>n</td>\n",
       "      <td>f</td>\n",
       "      <td>c</td>\n",
       "      <td>b</td>\n",
       "      <td>b</td>\n",
       "      <td>...</td>\n",
       "      <td>s</td>\n",
       "      <td>w</td>\n",
       "      <td>w</td>\n",
       "      <td>p</td>\n",
       "      <td>w</td>\n",
       "      <td>o</td>\n",
       "      <td>p</td>\n",
       "      <td>w</td>\n",
       "      <td>v</td>\n",
       "      <td>d</td>\n",
       "    </tr>\n",
       "    <tr>\n",
       "      <th>freq</th>\n",
       "      <td>4208</td>\n",
       "      <td>3656</td>\n",
       "      <td>3244</td>\n",
       "      <td>2284</td>\n",
       "      <td>4748</td>\n",
       "      <td>3528</td>\n",
       "      <td>7914</td>\n",
       "      <td>6812</td>\n",
       "      <td>5612</td>\n",
       "      <td>1728</td>\n",
       "      <td>...</td>\n",
       "      <td>4936</td>\n",
       "      <td>4464</td>\n",
       "      <td>4384</td>\n",
       "      <td>8124</td>\n",
       "      <td>7924</td>\n",
       "      <td>7488</td>\n",
       "      <td>3968</td>\n",
       "      <td>2388</td>\n",
       "      <td>4040</td>\n",
       "      <td>3148</td>\n",
       "    </tr>\n",
       "  </tbody>\n",
       "</table>\n",
       "<p>4 rows × 23 columns</p>\n",
       "</div>"
      ],
      "text/plain": [
       "       class cap-shape cap-surface cap-color bruises  odor gill-attachment  \\\n",
       "count   8124      8124        8124      8124    8124  8124            8124   \n",
       "unique     2         6           4        10       2     9               2   \n",
       "top        e         x           y         n       f     n               f   \n",
       "freq    4208      3656        3244      2284    4748  3528            7914   \n",
       "\n",
       "       gill-spacing gill-size gill-color  ... stalk-surface-below-ring  \\\n",
       "count          8124      8124       8124  ...                     8124   \n",
       "unique            2         2         12  ...                        4   \n",
       "top               c         b          b  ...                        s   \n",
       "freq           6812      5612       1728  ...                     4936   \n",
       "\n",
       "       stalk-color-above-ring stalk-color-below-ring veil-type veil-color  \\\n",
       "count                    8124                   8124      8124       8124   \n",
       "unique                      9                      9         1          4   \n",
       "top                         w                      w         p          w   \n",
       "freq                     4464                   4384      8124       7924   \n",
       "\n",
       "       ring-number ring-type spore-print-color population habitat  \n",
       "count         8124      8124              8124       8124    8124  \n",
       "unique           3         5                 9          6       7  \n",
       "top              o         p                 w          v       d  \n",
       "freq          7488      3968              2388       4040    3148  \n",
       "\n",
       "[4 rows x 23 columns]"
      ]
     },
     "execution_count": 8,
     "metadata": {},
     "output_type": "execute_result"
    }
   ],
   "source": [
    "# Create a new dataframe that's simply a description of the shrooms dataset. \n",
    "foo = shrooms.describe()\n",
    "foo"
   ]
  },
  {
   "cell_type": "code",
   "execution_count": 9,
   "metadata": {},
   "outputs": [
    {
     "data": {
      "text/plain": [
       "count                      186852\n",
       "unique                        119\n",
       "top       exynfnfcbbtbsswwpwopwvd\n",
       "freq                       108158\n",
       "Name: sum, dtype: object"
      ]
     },
     "execution_count": 9,
     "metadata": {},
     "output_type": "execute_result"
    }
   ],
   "source": [
    "# Now we can create a column called 'sum' and sum all the unqiue values in the dataset\n",
    "foo['sum'] = foo.sum(axis = 1)\n",
    "foo['sum']"
   ]
  },
  {
   "cell_type": "code",
   "execution_count": 10,
   "metadata": {},
   "outputs": [
    {
     "data": {
      "text/plain": [
       "2737"
      ]
     },
     "execution_count": 10,
     "metadata": {},
     "output_type": "execute_result"
    }
   ],
   "source": [
    "foo['sum']['unique'] * shrooms.shape[1]"
   ]
  },
  {
   "cell_type": "markdown",
   "metadata": {},
   "source": [
    "#### 119 Dummy Variables\n",
    "\n",
    "Looking at the number above, we can see that we're going to have to create 119 dummy variables for this dataset. We'll create those variables when we come to the `Feature Engineering` portion of the notebook."
   ]
  },
  {
   "cell_type": "markdown",
   "metadata": {},
   "source": [
    "**What exactly would be considered a good model?** This question is unique to each data science problem. Let's look at the percentage of edible mushrooms in our dataset:"
   ]
  },
  {
   "cell_type": "code",
   "execution_count": 11,
   "metadata": {},
   "outputs": [
    {
     "data": {
      "text/plain": [
       "0.517971442639094"
      ]
     },
     "execution_count": 11,
     "metadata": {},
     "output_type": "execute_result"
    }
   ],
   "source": [
    "# The following number represents the percentage of edible mushrooms in our dataset:\n",
    "shrooms[shrooms['class'] == 'e'].shape[0] / shrooms.shape[0]"
   ]
  },
  {
   "cell_type": "markdown",
   "metadata": {},
   "source": [
    "#### 51.79% of mushrooms in our dataset at edible.\n",
    "\n",
    "0.5179 indicates the number of edible mushrooms in our dataset. This might lead some to say that any model with an accuracy score above 51.79% is superior, as it outperforms the natural percentage of edible and poisonous mushrooms in the dataset. However, the consequences of eating a poisonous mushroom are dire: even one misclassification can result in death. This is a good reminder that every data science problem is unique and should be approached as such."
   ]
  },
  {
   "cell_type": "markdown",
   "metadata": {},
   "source": [
    "## Exploratory Data Analysis\n",
    "\n",
    "This classification problem will require creating dummy variables to quantify the data. Before doing so, we'll do some exploratory data anlysis to see if we see any interesting patterns in this dataset.\n",
    "\n",
    "First, let's load in some data visualization libraries."
   ]
  },
  {
   "cell_type": "code",
   "execution_count": 12,
   "metadata": {},
   "outputs": [],
   "source": [
    "import seaborn as sns\n",
    "import matplotlib.pyplot as plt"
   ]
  },
  {
   "cell_type": "markdown",
   "metadata": {},
   "source": [
    "As a reminder, let's take a look at the name of the columns in our `shrooms` dataset."
   ]
  },
  {
   "cell_type": "code",
   "execution_count": 13,
   "metadata": {},
   "outputs": [
    {
     "data": {
      "text/plain": [
       "Index(['class', 'cap-shape', 'cap-surface', 'cap-color', 'bruises', 'odor',\n",
       "       'gill-attachment', 'gill-spacing', 'gill-size', 'gill-color',\n",
       "       'stalk-shape', 'stalk-root', 'stalk-surface-above-ring',\n",
       "       'stalk-surface-below-ring', 'stalk-color-above-ring',\n",
       "       'stalk-color-below-ring', 'veil-type', 'veil-color', 'ring-number',\n",
       "       'ring-type', 'spore-print-color', 'population', 'habitat'],\n",
       "      dtype='object')"
      ]
     },
     "execution_count": 13,
     "metadata": {},
     "output_type": "execute_result"
    }
   ],
   "source": [
    "shrooms.columns"
   ]
  },
  {
   "cell_type": "markdown",
   "metadata": {},
   "source": [
    "#### Data Dictionary\n",
    "\n",
    "Drawing more meaningful insights out of our exploratory data analysis will require the creation of a data dictionary. The variables in the dataset are of a single lower-case letter, which doesn't offer any detail into our ultimate visual interpretations."
   ]
  },
  {
   "cell_type": "code",
   "execution_count": 22,
   "metadata": {},
   "outputs": [
    {
     "data": {
      "text/plain": [
       "<matplotlib.axes._subplots.AxesSubplot at 0x1a25341c10>"
      ]
     },
     "execution_count": 22,
     "metadata": {},
     "output_type": "execute_result"
    },
    {
     "data": {
      "image/png": "[encoded data removed]",
      "text/plain": [
       "<Figure size 1080x720 with 1 Axes>"
      ]
     },
     "metadata": {
      "needs_background": "light"
     },
     "output_type": "display_data"
    }
   ],
   "source": [
    "plt.figure(figsize = (15, 10))\n",
    "sns.countplot(y = 'class', hue =  'cap-shape', data = shrooms, palette = \"Accent\")"
   ]
  },
  {
   "cell_type": "code",
   "execution_count": null,
   "metadata": {},
   "outputs": [],
   "source": []
  },
  {
   "cell_type": "code",
   "execution_count": null,
   "metadata": {},
   "outputs": [],
   "source": []
  },
  {
   "cell_type": "code",
   "execution_count": null,
   "metadata": {},
   "outputs": [],
   "source": []
  },
  {
   "cell_type": "markdown",
   "metadata": {},
   "source": [
    "## Feature Engineering\n",
    "\n",
    "The biggest (and perhaps only) amount of feature engineering required will require creating `dummy variables` for the mushroom dataset.\n",
    "\n",
    "The easiest way to create all the `dummy variables` is to create a function that can create all the variables and thgen drop the original column from the `shrooms` dataset. Once the dummies have been created, the original dataset is no longer needed."
   ]
  },
  {
   "cell_type": "code",
   "execution_count": null,
   "metadata": {},
   "outputs": [],
   "source": [
    "# Function to dummify the shrooms dataframe\n",
    "def dummify(df):\n",
    "    \n",
    "    # Create new, empty dataframe, which we'll append dummy variables to\n",
    "    df2 = pd.DataFrame()\n",
    "    \n",
    "    # Create a for loop to dummify shrooms columns 1 by 1\n",
    "    for column in df:\n",
    "        \n",
    "        # Create the dummies unique to one column\n",
    "        dummy = pd.get_dummies(df[column], prefix = column, drop_first = True)\n",
    "        \n",
    "        # Add dummies to df2 column by column\n",
    "        for i in dummy:\n",
    "            df2[i] = dummy[i]\n",
    "            \n",
    "    # Return the new dataframe        \n",
    "    return df2"
   ]
  },
  {
   "cell_type": "code",
   "execution_count": null,
   "metadata": {},
   "outputs": [],
   "source": [
    "shrooms = dummify(shrooms)\n",
    "shrooms"
   ]
  },
  {
   "cell_type": "code",
   "execution_count": null,
   "metadata": {},
   "outputs": [],
   "source": [
    "# Our new dataframe has 8,124 rows and 96 columns\n",
    "shrooms.shape"
   ]
  },
  {
   "cell_type": "code",
   "execution_count": null,
   "metadata": {
    "scrolled": false
   },
   "outputs": [],
   "source": [
    "# A list of the columns in the dataframe 'shrooms'\n",
    "shrooms.columns"
   ]
  },
  {
   "cell_type": "markdown",
   "metadata": {},
   "source": [
    "#### Column names are too nondescript\n",
    "\n",
    "The names of the columns don't offer much insight into the classification problem because they've univerally been shorthanded with one single letter at the end of the column name. \n",
    "\n",
    "We're going to use `dictionary substitution` to rename all the columns. The `dictionary` for doing this exists in the cell below. The columns have been renamed using the key from the Kaggle website that this datasource was pulled from, and can be found at https://www.kaggle.com/uciml/mushroom-classification"
   ]
  },
  {
   "cell_type": "code",
   "execution_count": null,
   "metadata": {},
   "outputs": [],
   "source": [
    "# Create a dictionary\n",
    "\n",
    "new_column_names = {\n",
    "    'class_p' : 'poisonous',\n",
    "    'cap-shape_c' : 'cap_shape_conical',\n",
    "    'cap-shape_f' : 'cap_shape_flat',\n",
    "    'cap-shape_k' : 'cap_shape_knobbed',\n",
    "    'cap-shape_s' : 'cap_shape_sunken',\n",
    "    'cap-shape_x' : 'cap_shape_convex',\n",
    "    'cap-surface_g' : 'cap_surface_grooves',\n",
    "    'cap-surface_s' : 'cap_surface_smooth',\n",
    "    'cap-surface_y' : 'cap_surface_scaly',\n",
    "    'cap-color_c' : 'cap_color_cinnamon',\n",
    "    'cap-color_e' : 'cap_color_red',\n",
    "    'cap-color_g' : 'cap_color_grey',\n",
    "    'cap-color_n' : 'cap_color_brown',\n",
    "    'cap-color_p' : 'cap_color_pink',\n",
    "    'cap-color_r' : 'cap_color_green',\n",
    "    'cap-color_u' : 'cap_color_purple',\n",
    "    'cap-color_w' : 'cap_color_white',\n",
    "    'cap-color_y' : 'cap_color_yellow',\n",
    "    'bruises_t' : 'bruises_true',\n",
    "    'odor_c' : 'odor_creosote',\n",
    "    'odor_f' : 'odor_foul',\n",
    "    'odor_l' : 'odor_anise',\n",
    "    'odor_m' : 'odor_musty',\n",
    "    'odor_n' : 'odor_none',\n",
    "    'odor_p' : 'odor_pungent',\n",
    "    'odor_s' : 'odor_spicy',\n",
    "    'odor_y' : 'odor_fishy',\n",
    "    'gill-attachment_f' : 'gill_attachment_free',\n",
    "    'gill-spacing_w' : 'gill_attachment_crowded',\n",
    "    'gill-size_n' : 'gill_size_narrow',\n",
    "    'gill-color_e' : 'gill_color_red',\n",
    "    'gill-color_g' : 'gill_color_gray',\n",
    "    'gill-color_h' : 'gill_color_chocolate',\n",
    "    'gill-color_k' : 'gill_color_black',\n",
    "    'gill-color_n' : 'gill_color_brown',\n",
    "    'gill-color_o' : 'gill_color_orange',\n",
    "    'gill-color_p' : 'gill_color_pink',\n",
    "    'gill-color_r' : 'gill_color_green',\n",
    "    'gill-color_u' : 'gill_color_purple',\n",
    "    'gill-color_w' : 'gill_color_white',\n",
    "    'gill-color_y' : 'gill_color_yellow',\n",
    "    'stalk-shape_t' : 'stalk_shape_tapering',\n",
    "    'stalk-root_b' : 'stalk_root_bulbous',\n",
    "    'stalk-root_c' : 'stalk_root_club',\n",
    "    'stalk-root_e' : 'stalk_root_equal',\n",
    "    'stalk-root_r' : 'stalk_root_rooted',\n",
    "    'stalk-surface-above-ring_k' : 'stalk_surface_above_ring_silky',\n",
    "    'stalk-surface-above-ring_s' : 'stalk_surface_above_ring_smooth',\n",
    "    'stalk-surface-above-ring_y' : 'stalk_surface_above_ring_scaly',\n",
    "    'stalk-surface-below-ring_k' : 'stalk_surface_below_ring_silky',\n",
    "    'stalk-surface-below-ring_s' : 'stalk_surface_below_ring_smooth',\n",
    "    'stalk-surface-below-ring_y' : 'stalk_surface_below_ring_scaly',\n",
    "    'stalk-color-above-ring_c' : 'stalk_color_above_ring_cinnamon',\n",
    "    'stalk-color-above-ring_e' : 'stalk_color_above_ring_red',\n",
    "    'stalk-color-above-ring_g' : 'stalk_color_above_ring_gray',\n",
    "    'stalk-color-above-ring_n' : 'stalk_color_above_ring_brown',\n",
    "    'stalk-color-above-ring_o' : 'stalk_color_above_ring_orange',\n",
    "    'stalk-color-above-ring_p' : 'stalk_color_above_ring_pink',\n",
    "    'stalk-color-above-ring_w' : 'stalk_color_above_ring_white',\n",
    "    'stalk-color-above-ring_y' : 'stalk_color_above_ring_yellow',\n",
    "    'stalk-color-below-ring_c' : 'stalk_color_below_ring_cinnamon',\n",
    "    'stalk-color-below-ring_e' : 'stalk_color_below_ring_red',\n",
    "    'stalk-color-below-ring_g' : 'stalk_color_below_ring_gray',\n",
    "    'stalk-color-below-ring_n' : 'stalk_color_below_ring_brown',\n",
    "    'stalk-color-below-ring_o' : 'stalk_color_below_ring_orange',\n",
    "    'stalk-color-below-ring_p' : 'stalk_color_below_ring_pink',\n",
    "    'stalk-color-below-ring_w' : 'stalk_color_below_ring_white',\n",
    "    'stalk-color-below-ring_y' : 'stalk_color_below_ring_yellow',\n",
    "    'veil-color_o' : 'veil_color_orange',\n",
    "    'veil-color_w' : 'veil_color_white',\n",
    "    'veil-color_y' : 'veil_color_yellow',\n",
    "    'ring-number_o' : 'ring_number_one',\n",
    "    'ring-number_t' : 'ring_number_two',\n",
    "    'ring-type_f' : 'ring_type_flaring',\n",
    "    'ring-type_l' : 'ring_type_large',\n",
    "    'ring-type_n' : 'ring_type_none',\n",
    "    'ring-type_p' : 'ring_type_pendant',\n",
    "    'spore-print-color_h' : 'spore_print_color_chocolate',\n",
    "    'spore-print-color_k' : 'spore_print_color_black',\n",
    "    'spore-print-color_n' : 'spore_print_color_brown',\n",
    "    'spore-print-color_o' : 'spore_print_color_orange',\n",
    "    'spore-print-color_r' : 'spore_print_color_green',\n",
    "    'spore-print-color_u' : 'spore_print_color_purple',\n",
    "    'spore-print-color_w' : 'spore_print_color_white',\n",
    "    'spore-print-color_y' : 'spore_print_color_yellow',\n",
    "    'population_c' : 'population_clustered',\n",
    "    'population_n' : 'population_numerous',\n",
    "    'population_s' : 'population_scattered',\n",
    "    'population_v' : 'population_several',\n",
    "    'population_y' : 'population_solitary',\n",
    "    'habitat_g' : 'habitat_grasses',\n",
    "    'habitat_l' : 'habitat_leaves',\n",
    "    'habitat_m' : 'habitat_meadows',\n",
    "    'habitat_p' : 'habitat_paths',\n",
    "    'habitat_u' : 'habitat_urban',\n",
    "    'habitat_w' : 'habitat_waste',\n",
    "    \n",
    "}\n",
    "\n",
    "shrooms.rename(columns = new_column_names, inplace = True)"
   ]
  },
  {
   "cell_type": "code",
   "execution_count": null,
   "metadata": {
    "scrolled": false
   },
   "outputs": [],
   "source": [
    "def count_averages(df):\n",
    "    df2 = pd.DataFrame()\n",
    "    df2['variable'] = [column for column in df]\n",
    "    df2['average'] = [df[column].mean() for column in df]\n",
    "    return df2\n",
    "\n",
    "averages = count_averages(shrooms)\n",
    "averages"
   ]
  },
  {
   "cell_type": "code",
   "execution_count": null,
   "metadata": {},
   "outputs": [],
   "source": [
    "averages.sort_values(by = 'average', ascending = False).head(10)"
   ]
  },
  {
   "cell_type": "markdown",
   "metadata": {},
   "source": [
    "These letters don't do us much good to better understand our data. How are we supposed to know what each letter means?\n",
    "Luckily, the dataset came with a table that explains each value in more detail. In the cell below, I've created a dictionary of each term as it corresponds to each letter, which we can then use to change the column names in our dataset"
   ]
  },
  {
   "cell_type": "markdown",
   "metadata": {},
   "source": [
    "**Just by looking at the above dataframe, we can see that 97.5% of the mushrooms in our dataset have a Veil Color that's White, 97.4% have a Gill Attachment that's categorized as being Free, and 92% have a Ring Number of One**\n",
    "\n",
    "Let's import some data visualization libraries for some further EDA"
   ]
  },
  {
   "cell_type": "code",
   "execution_count": null,
   "metadata": {},
   "outputs": [],
   "source": [
    "import seaborn as sns\n",
    "import matplotlib.pyplot as plt"
   ]
  },
  {
   "cell_type": "code",
   "execution_count": null,
   "metadata": {},
   "outputs": [],
   "source": []
  }
 ],
 "metadata": {
  "kernelspec": {
   "display_name": "Python 3",
   "language": "python",
   "name": "python3"
  },
  "language_info": {
   "codemirror_mode": {
    "name": "ipython",
    "version": 3
   },
   "file_extension": ".py",
   "mimetype": "text/x-python",
   "name": "python",
   "nbconvert_exporter": "python",
   "pygments_lexer": "ipython3",
   "version": "3.7.6"
  }
 },
 "nbformat": 4,
 "nbformat_minor": 4
}
